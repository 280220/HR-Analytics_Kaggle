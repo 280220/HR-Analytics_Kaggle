{
 "cells": [
  {
   "cell_type": "code",
   "execution_count": 15,
   "id": "systematic-healing",
   "metadata": {},
   "outputs": [],
   "source": [
    "import numpy as np\n",
    "import pandas as pd\n",
    "import math\n",
    "\n",
    "#Model\n",
    "from sklearn.model_selection import train_test_split\n",
    "from sklearn.linear_model import LogisticRegression\n",
    "from sklearn.naive_bayes import MultinomialNB, GaussianNB\n",
    "from sklearn.pipeline import Pipeline\n",
    "from sklearn.svm import SVC\n",
    "from sklearn.neighbors import KNeighborsClassifier\n",
    "from sklearn.tree import DecisionTreeClassifier\n",
    "from sklearn.ensemble import RandomForestClassifier, GradientBoostingClassifier\n",
    "from sklearn.model_selection import cross_validate, GridSearchCV\n",
    "from sklearn.metrics import confusion_matrix, accuracy_score, roc_auc_score\n",
    "from sklearn.feature_selection import RFE\n",
    "\n",
    "#Feature engineering, pipeline\n",
    "from sklearn.preprocessing import StandardScaler, RobustScaler\n",
    "from feature_engine.encoding import OneHotEncoder, CountFrequencyEncoder, OrdinalEncoder, RareLabelEncoder, MeanEncoder\n",
    "from feature_engine import imputation as mdi\n",
    "from feature_engine.discretisation import EqualFrequencyDiscretiser\n",
    "from sklearn.experimental import enable_iterative_imputer\n",
    "from sklearn.impute import IterativeImputer\n",
    "\n",
    "import matplotlib.pyplot as plt\n",
    "import seaborn as sns\n",
    "sns.set()\n",
    "\n",
    "#xgboost\n",
    "import xgboost as xgb"
   ]
  },
  {
   "cell_type": "code",
   "execution_count": 16,
   "id": "plain-mississippi",
   "metadata": {},
   "outputs": [],
   "source": [
    "# Load data\n",
    "test = pd.read_csv('data_test_clean.csv')\n",
    "#test=pd.read_csv('z_test.csv')"
   ]
  },
  {
   "cell_type": "code",
   "execution_count": 17,
   "id": "contrary-morning",
   "metadata": {},
   "outputs": [],
   "source": [
    "train = pd.read_csv('data_train_clean.csv')\n",
    "#train = pd.read_csv('z_train.csv')"
   ]
  },
  {
   "cell_type": "code",
   "execution_count": 18,
   "id": "joined-vault",
   "metadata": {},
   "outputs": [
    {
     "data": {
      "text/plain": [
       "((3832, 11), (9995, 12))"
      ]
     },
     "execution_count": 18,
     "metadata": {},
     "output_type": "execute_result"
    }
   ],
   "source": [
    "test.shape, train.shape"
   ]
  },
  {
   "cell_type": "code",
   "execution_count": 19,
   "id": "driven-census",
   "metadata": {},
   "outputs": [],
   "source": [
    "# Manage data on train set\n",
    "y_train = train['target']\n",
    "X_train = train.drop(['enrollee_id', 'target'], axis=1)\n",
    "\n",
    "# Manage data on test set\n",
    "X_test = test.drop('enrollee_id', axis = 1)"
   ]
  },
  {
   "cell_type": "code",
   "execution_count": 20,
   "id": "prompt-treasurer",
   "metadata": {},
   "outputs": [
    {
     "data": {
      "text/plain": [
       "((9995,), (9995, 10), (3832, 10))"
      ]
     },
     "execution_count": 20,
     "metadata": {},
     "output_type": "execute_result"
    }
   ],
   "source": [
    "y_train.shape, X_train.shape, X_test.shape"
   ]
  },
  {
   "cell_type": "code",
   "execution_count": 21,
   "id": "spectacular-psychology",
   "metadata": {},
   "outputs": [],
   "source": [
    "#RareLabelEncoder and replace with feature \"city\"\n",
    "\n",
    "rare_encoder = RareLabelEncoder(tol = 0, n_categories = 4, variables = 'city', max_n_categories = 5, replace_with = 'Other')"
   ]
  },
  {
   "cell_type": "code",
   "execution_count": 22,
   "id": "defined-buyer",
   "metadata": {},
   "outputs": [],
   "source": [
    "X_train=rare_encoder.fit_transform(X_train)\n",
    "X_test=rare_encoder.transform(X_test)"
   ]
  },
  {
   "cell_type": "code",
   "execution_count": 23,
   "id": "equipped-timing",
   "metadata": {
    "scrolled": true
   },
   "outputs": [
    {
     "data": {
      "text/plain": [
       "(array(['city_103', 'Other', 'city_114', 'city_21', 'city_160', 'city_16'],\n",
       "       dtype=object),\n",
       " array(['city_160', 'Other', 'city_103', 'city_114', 'city_21', 'city_16'],\n",
       "       dtype=object))"
      ]
     },
     "execution_count": 23,
     "metadata": {},
     "output_type": "execute_result"
    }
   ],
   "source": [
    "X_train.city.unique(), X_test.city.unique()"
   ]
  },
  {
   "cell_type": "code",
   "execution_count": 24,
   "id": "superb-telling",
   "metadata": {},
   "outputs": [
    {
     "data": {
      "text/plain": [
       "0         103\n",
       "1       Other\n",
       "2       Other\n",
       "3         103\n",
       "4         103\n",
       "        ...  \n",
       "9990      160\n",
       "9991      103\n",
       "9992    Other\n",
       "9993      103\n",
       "9994      103\n",
       "Name: city, Length: 9995, dtype: object"
      ]
     },
     "execution_count": 24,
     "metadata": {},
     "output_type": "execute_result"
    }
   ],
   "source": [
    "X_train['city'].replace({'city_103':'103','city_114':'114','city_21':'21','city_160':'160','city_16':'16'})"
   ]
  },
  {
   "cell_type": "code",
   "execution_count": 25,
   "id": "computational-friend",
   "metadata": {},
   "outputs": [
    {
     "data": {
      "text/plain": [
       "Other       4189\n",
       "city_103    2610\n",
       "city_21     1179\n",
       "city_16      898\n",
       "city_114     633\n",
       "city_160     486\n",
       "Name: city, dtype: int64"
      ]
     },
     "execution_count": 25,
     "metadata": {},
     "output_type": "execute_result"
    }
   ],
   "source": [
    "X_train['city'].value_counts()"
   ]
  },
  {
   "cell_type": "code",
   "execution_count": 26,
   "id": "round-imaging",
   "metadata": {},
   "outputs": [
    {
     "data": {
      "text/plain": [
       "0         160\n",
       "1       Other\n",
       "2       Other\n",
       "3       Other\n",
       "4         103\n",
       "        ...  \n",
       "3827    Other\n",
       "3828    Other\n",
       "3829      160\n",
       "3830    Other\n",
       "3831      103\n",
       "Name: city, Length: 3832, dtype: object"
      ]
     },
     "execution_count": 26,
     "metadata": {},
     "output_type": "execute_result"
    }
   ],
   "source": [
    "X_test['city'].replace({'city_103':'103','city_114':'114','city_21':'21','city_160':'160','city_16':'16'})"
   ]
  },
  {
   "cell_type": "code",
   "execution_count": 27,
   "id": "arctic-chile",
   "metadata": {},
   "outputs": [
    {
     "data": {
      "text/plain": [
       "Other       1710\n",
       "city_103     858\n",
       "city_21      546\n",
       "city_16      274\n",
       "city_114     269\n",
       "city_160     175\n",
       "Name: city, dtype: int64"
      ]
     },
     "execution_count": 27,
     "metadata": {},
     "output_type": "execute_result"
    }
   ],
   "source": [
    "X_test['city'].value_counts()"
   ]
  },
  {
   "cell_type": "code",
   "execution_count": 28,
   "id": "korean-retail",
   "metadata": {},
   "outputs": [],
   "source": [
    "# major discipline feature: replace\n",
    "\n",
    "X_train['major_discipline']=np.where(X_train['major_discipline'] =='Humanities', 'Arts&Humanities', X_train['major_discipline'])"
   ]
  },
  {
   "cell_type": "code",
   "execution_count": 29,
   "id": "civic-river",
   "metadata": {},
   "outputs": [],
   "source": [
    "X_train['major_discipline']=np.where(X_train['major_discipline'] =='Arts', 'Arts&Humanities', X_train['major_discipline'])"
   ]
  },
  {
   "cell_type": "code",
   "execution_count": 30,
   "id": "responsible-brazil",
   "metadata": {},
   "outputs": [],
   "source": [
    "X_test['major_discipline']=np.where(X_test['major_discipline'] =='Humanities', 'Arts&Humanities', X_test['major_discipline'])"
   ]
  },
  {
   "cell_type": "code",
   "execution_count": 31,
   "id": "administrative-trade",
   "metadata": {},
   "outputs": [],
   "source": [
    "X_test['major_discipline']=np.where(X_test['major_discipline'] =='Arts', 'Arts&Humanities', X_test['major_discipline'])"
   ]
  },
  {
   "cell_type": "code",
   "execution_count": 32,
   "id": "authentic-bunch",
   "metadata": {},
   "outputs": [
    {
     "data": {
      "text/plain": [
       "STEM               8832\n",
       "Arts&Humanities     593\n",
       "Other               228\n",
       "Business Degree     203\n",
       "No Major            139\n",
       "Name: major_discipline, dtype: int64"
      ]
     },
     "execution_count": 32,
     "metadata": {},
     "output_type": "execute_result"
    }
   ],
   "source": [
    "X_train['major_discipline'].value_counts()"
   ]
  },
  {
   "cell_type": "code",
   "execution_count": 33,
   "id": "associate-facility",
   "metadata": {},
   "outputs": [
    {
     "data": {
      "text/plain": [
       "STEM               2883\n",
       "0                   576\n",
       "Arts&Humanities     188\n",
       "Other                73\n",
       "Business Degree      68\n",
       "No Major             44\n",
       "Name: major_discipline, dtype: int64"
      ]
     },
     "execution_count": 33,
     "metadata": {},
     "output_type": "execute_result"
    }
   ],
   "source": [
    "X_test['major_discipline'].value_counts()"
   ]
  },
  {
   "cell_type": "code",
   "execution_count": 34,
   "id": "royal-recognition",
   "metadata": {},
   "outputs": [],
   "source": [
    "#education level feature: replace\n",
    "\n",
    "X_train['education_level']=np.where(X_train['education_level'] =='High School', 'School', X_train['education_level'])"
   ]
  },
  {
   "cell_type": "code",
   "execution_count": 35,
   "id": "sixth-daily",
   "metadata": {},
   "outputs": [],
   "source": [
    "X_train['education_level']=np.where(X_train['education_level'] =='Primary School', 'School', X_train['education_level'])"
   ]
  },
  {
   "cell_type": "code",
   "execution_count": 36,
   "id": "meaning-buffalo",
   "metadata": {},
   "outputs": [],
   "source": [
    "X_test['education_level']=np.where(X_test['education_level'] =='High School', 'School', X_test['education_level'])"
   ]
  },
  {
   "cell_type": "code",
   "execution_count": 37,
   "id": "advanced-stake",
   "metadata": {},
   "outputs": [],
   "source": [
    "X_test['education_level']=np.where(X_test['education_level'] =='Primary School', 'School', X_test['education_level'])"
   ]
  },
  {
   "cell_type": "code",
   "execution_count": 38,
   "id": "changed-approval",
   "metadata": {},
   "outputs": [
    {
     "data": {
      "text/plain": [
       "Graduate    7126\n",
       "Masters     2615\n",
       "Phd          254\n",
       "Name: education_level, dtype: int64"
      ]
     },
     "execution_count": 38,
     "metadata": {},
     "output_type": "execute_result"
    }
   ],
   "source": [
    "X_train['education_level'].value_counts()"
   ]
  },
  {
   "cell_type": "code",
   "execution_count": 39,
   "id": "continuous-collaboration",
   "metadata": {},
   "outputs": [
    {
     "data": {
      "text/plain": [
       "Graduate    2333\n",
       "Masters      847\n",
       "School       476\n",
       "0             91\n",
       "Phd           85\n",
       "Name: education_level, dtype: int64"
      ]
     },
     "execution_count": 39,
     "metadata": {},
     "output_type": "execute_result"
    }
   ],
   "source": [
    "X_test['education_level'].value_counts()"
   ]
  },
  {
   "cell_type": "code",
   "execution_count": 40,
   "id": "synthetic-ontario",
   "metadata": {},
   "outputs": [],
   "source": [
    "#def city(x):\n",
    "   # if x is np.nan:\n",
    "        #return np.nan\n",
    "    #return x.replace('city_', '')"
   ]
  },
  {
   "cell_type": "code",
   "execution_count": 41,
   "id": "nonprofit-mercy",
   "metadata": {},
   "outputs": [],
   "source": [
    "#OneHotEncoder with features 'relevent_experience', 'gender', 'city', 'enrolled_university', 'education_level', 'major_discipline'\n",
    "\n",
    "one_hot_encoder = OneHotEncoder(variables=['relevent_experience', 'gender', 'city', 'enrolled_university', 'education_level', 'major_discipline'], drop_last=False)"
   ]
  },
  {
   "cell_type": "code",
   "execution_count": 42,
   "id": "liked-biotechnology",
   "metadata": {},
   "outputs": [],
   "source": [
    "X_train=one_hot_encoder.fit_transform(X_train)\n",
    "X_test=one_hot_encoder.transform(X_test)"
   ]
  },
  {
   "cell_type": "code",
   "execution_count": 43,
   "id": "greenhouse-cliff",
   "metadata": {},
   "outputs": [],
   "source": [
    "#experience feature: Change to numeric and discretization\n",
    "\n",
    "X_train['experience']=np.where(X_train['experience'] =='>20', '20', X_train['experience'])\n",
    "X_train['experience']=np.where(X_train['experience'] =='<1', '0', X_train['experience'])"
   ]
  },
  {
   "cell_type": "code",
   "execution_count": 44,
   "id": "dying-tractor",
   "metadata": {},
   "outputs": [],
   "source": [
    "X_test['experience']=np.where(X_test['experience'] =='>20', '20', X_test['experience'])\n",
    "X_test['experience']=np.where(X_test['experience'] =='<1', '0', X_test['experience'])"
   ]
  },
  {
   "cell_type": "code",
   "execution_count": 45,
   "id": "brazilian-workplace",
   "metadata": {},
   "outputs": [],
   "source": [
    "X_train['experience']=pd.to_numeric(X_train['experience'], errors='coerce')"
   ]
  },
  {
   "cell_type": "code",
   "execution_count": 46,
   "id": "juvenile-reputation",
   "metadata": {},
   "outputs": [],
   "source": [
    "X_test['experience']=pd.to_numeric(X_test['experience'], errors='coerce')"
   ]
  },
  {
   "cell_type": "code",
   "execution_count": 47,
   "id": "oriental-throw",
   "metadata": {
    "scrolled": true
   },
   "outputs": [
    {
     "data": {
      "text/plain": [
       "array([20, 15, 13,  7,  5, 16, 11,  0, 18, 19, 12, 10,  9,  4,  2,  6, 14,\n",
       "        3,  8, 17,  1], dtype=int64)"
      ]
     },
     "execution_count": 47,
     "metadata": {},
     "output_type": "execute_result"
    }
   ],
   "source": [
    "X_train['experience'].unique()"
   ]
  },
  {
   "cell_type": "code",
   "execution_count": 48,
   "id": "focused-ranking",
   "metadata": {},
   "outputs": [
    {
     "data": {
      "text/plain": [
       "Text(0, 0.5, 'Observaciones por contenedor')"
      ]
     },
     "execution_count": 48,
     "metadata": {},
     "output_type": "execute_result"
    },
    {
     "data": {
      "image/png": "[encoded data removed]",
      "text/plain": [
       "<Figure size 432x288 with 1 Axes>"
      ]
     },
     "metadata": {},
     "output_type": "display_data"
    }
   ],
   "source": [
    "t1 = X_train.groupby(['experience'])['experience'].count()/len(X_train)\n",
    "t2 = X_train.groupby(['experience'])['experience'].count()/len(X_train)\n",
    "\n",
    "temp = pd.concat([t1, t2], axis=1)\n",
    "temp.columns = ['train', 'test']\n",
    "temp.plot.bar()\n",
    "plt.ylabel('Observaciones por contenedor')"
   ]
  },
  {
   "cell_type": "code",
   "execution_count": 49,
   "id": "caring-rebound",
   "metadata": {},
   "outputs": [],
   "source": [
    "disc = EqualFrequencyDiscretiser(q=5, variables='experience')"
   ]
  },
  {
   "cell_type": "code",
   "execution_count": 50,
   "id": "worth-watershed",
   "metadata": {},
   "outputs": [],
   "source": [
    "X_train=disc.fit_transform(X_train)\n",
    "X_test=disc.transform(X_test)"
   ]
  },
  {
   "cell_type": "code",
   "execution_count": 51,
   "id": "knowing-merchant",
   "metadata": {},
   "outputs": [
    {
     "data": {
      "text/plain": [
       "3    3855\n",
       "0    2540\n",
       "2    2039\n",
       "1    1561\n",
       "Name: experience, dtype: int64"
      ]
     },
     "execution_count": 51,
     "metadata": {},
     "output_type": "execute_result"
    }
   ],
   "source": [
    "X_train.experience.value_counts()"
   ]
  },
  {
   "cell_type": "code",
   "execution_count": 52,
   "id": "descending-handy",
   "metadata": {},
   "outputs": [
    {
     "data": {
      "text/plain": [
       "0    1311\n",
       "3    1201\n",
       "2     723\n",
       "1     597\n",
       "Name: experience, dtype: int64"
      ]
     },
     "execution_count": 52,
     "metadata": {},
     "output_type": "execute_result"
    }
   ],
   "source": [
    "X_test.experience.value_counts()"
   ]
  },
  {
   "cell_type": "code",
   "execution_count": 53,
   "id": "documentary-suggestion",
   "metadata": {},
   "outputs": [],
   "source": [
    "#train experience = train experience .fillna (train experience mean)"
   ]
  },
  {
   "cell_type": "code",
   "execution_count": 54,
   "id": "raising-tower",
   "metadata": {},
   "outputs": [],
   "source": [
    "#last new job feature: Change to numeric\n",
    "\n",
    "X_train['last_new_job']=np.where(X_train['last_new_job'] =='>4', '5', X_train['last_new_job'])\n",
    "X_train['last_new_job']=np.where(X_train['last_new_job'] =='never', '0', X_train['last_new_job'])"
   ]
  },
  {
   "cell_type": "code",
   "execution_count": 55,
   "id": "administrative-combining",
   "metadata": {},
   "outputs": [],
   "source": [
    "X_test['last_new_job']=np.where(X_test['last_new_job'] =='>4', '5', X_test['last_new_job'])\n",
    "X_test['last_new_job']=np.where(X_test['last_new_job'] =='never', '0', X_test['last_new_job'])"
   ]
  },
  {
   "cell_type": "code",
   "execution_count": 56,
   "id": "reliable-identifier",
   "metadata": {},
   "outputs": [],
   "source": [
    "X_train['last_new_job']=pd.to_numeric(X_train['last_new_job'], errors='coerce')"
   ]
  },
  {
   "cell_type": "code",
   "execution_count": 57,
   "id": "occupied-forwarding",
   "metadata": {},
   "outputs": [],
   "source": [
    "X_test['last_new_job']=pd.to_numeric(X_test['last_new_job'], errors='coerce')"
   ]
  },
  {
   "cell_type": "code",
   "execution_count": 58,
   "id": "expressed-rotation",
   "metadata": {},
   "outputs": [],
   "source": [
    "#data_z_train['experience'] = pd.get_dummies(data_z_train['experience'], drop_first = True)\n",
    "#data_z_train['company_size'] = pd.get_dummies(data_z_train['company_size'], drop_first = True)\n",
    "#data_z_train['company_type'] = pd.get_dummies(data_z_train['company_type'], drop_first = True)\n",
    "#data_z_train['last_new_job'] = pd.get_dummies(data_z_train['last_new_job'], drop_first = True)\n",
    "#data_z_train['education_level'] = pd.get_dummies(data_z_train['education_level'], drop_first = True)\n",
    "#data_z_train['relevent_experience'] = pd.get_dummies(data_z_train['relevent_experience'], drop_first = True)\n",
    "#data_z_train['enrolled_university'] = pd.get_dummies(data_z_train['enrolled_university'], drop_first = True)"
   ]
  },
  {
   "cell_type": "code",
   "execution_count": 59,
   "id": "administrative-elephant",
   "metadata": {},
   "outputs": [
    {
     "data": {
      "text/plain": [
       "city_development_index                         float64\n",
       "experience                                       int64\n",
       "last_new_job                                     int64\n",
       "training_hours                                   int64\n",
       "relevent_experience_Has relevent experience      int32\n",
       "relevent_experience_No relevent experience       int32\n",
       "gender_Male                                      int32\n",
       "gender_Female                                    int32\n",
       "gender_Other                                     int32\n",
       "city_city_103                                    int32\n",
       "city_Other                                       int32\n",
       "city_city_114                                    int32\n",
       "city_city_21                                     int32\n",
       "city_city_160                                    int32\n",
       "city_city_16                                     int32\n",
       "enrolled_university_no_enrollment                int32\n",
       "enrolled_university_Part time course             int32\n",
       "enrolled_university_Full time course             int32\n",
       "education_level_Graduate                         int32\n",
       "education_level_Masters                          int32\n",
       "education_level_Phd                              int32\n",
       "major_discipline_STEM                            int32\n",
       "major_discipline_Arts&Humanities                 int32\n",
       "major_discipline_Business Degree                 int32\n",
       "major_discipline_Other                           int32\n",
       "major_discipline_No Major                        int32\n",
       "dtype: object"
      ]
     },
     "execution_count": 59,
     "metadata": {},
     "output_type": "execute_result"
    }
   ],
   "source": [
    "X_train.dtypes"
   ]
  },
  {
   "cell_type": "code",
   "execution_count": 60,
   "id": "silent-purple",
   "metadata": {},
   "outputs": [
    {
     "data": {
      "text/plain": [
       "city_development_index                         float64\n",
       "experience                                       int64\n",
       "last_new_job                                     int64\n",
       "training_hours                                   int64\n",
       "relevent_experience_Has relevent experience      int32\n",
       "relevent_experience_No relevent experience       int32\n",
       "gender_Male                                      int32\n",
       "gender_Female                                    int32\n",
       "gender_Other                                     int32\n",
       "city_city_103                                    int32\n",
       "city_Other                                       int32\n",
       "city_city_114                                    int32\n",
       "city_city_21                                     int32\n",
       "city_city_160                                    int32\n",
       "city_city_16                                     int32\n",
       "enrolled_university_no_enrollment                int32\n",
       "enrolled_university_Part time course             int32\n",
       "enrolled_university_Full time course             int32\n",
       "education_level_Graduate                         int32\n",
       "education_level_Masters                          int32\n",
       "education_level_Phd                              int32\n",
       "major_discipline_STEM                            int32\n",
       "major_discipline_Arts&Humanities                 int32\n",
       "major_discipline_Business Degree                 int32\n",
       "major_discipline_Other                           int32\n",
       "major_discipline_No Major                        int32\n",
       "dtype: object"
      ]
     },
     "execution_count": 60,
     "metadata": {},
     "output_type": "execute_result"
    }
   ],
   "source": [
    "X_test.dtypes"
   ]
  },
  {
   "cell_type": "code",
   "execution_count": 61,
   "id": "emotional-queue",
   "metadata": {},
   "outputs": [],
   "source": [
    "# Normalize data\n",
    "scaler = StandardScaler()\n",
    "X_train = scaler.fit_transform(X_train)\n",
    "X_test = scaler.transform(X_test)"
   ]
  },
  {
   "cell_type": "code",
   "execution_count": 62,
   "id": "completed-insider",
   "metadata": {},
   "outputs": [],
   "source": [
    "# GridSearchCV with XGBoost model\n",
    "xgb_model = xgb.XGBClassifier(random_state=42)\n",
    "param_grid = {'objective':['binary:logistic'],\n",
    "              'learning_rate': [0.001,0.05,0.1, 10], \n",
    "              'max_depth': [2,3,4,5,6],\n",
    "              'min_child_weight': [11],\n",
    "              'subsample': [0.8],\n",
    "              'colsample_bytree': [0.7],\n",
    "              'n_estimators': [1000]}\n",
    "#"
   ]
  },
  {
   "cell_type": "code",
   "execution_count": 63,
   "id": "attractive-vertex",
   "metadata": {},
   "outputs": [
    {
     "name": "stdout",
     "output_type": "stream",
     "text": [
      "Fitting 5 folds for each of 20 candidates, totalling 100 fits\n"
     ]
    },
    {
     "name": "stderr",
     "output_type": "stream",
     "text": [
      "[Parallel(n_jobs=-1)]: Using backend LokyBackend with 4 concurrent workers.\n",
      "[Parallel(n_jobs=-1)]: Done  42 tasks      | elapsed:  2.9min\n",
      "[Parallel(n_jobs=-1)]: Done 100 out of 100 | elapsed:  6.5min finished\n",
      "C:\\Users\\Anna\\Anaconda3\\envs\\ironhack\\lib\\site-packages\\xgboost\\sklearn.py:888: UserWarning: The use of label encoder in XGBClassifier is deprecated and will be removed in a future release. To remove this warning, do the following: 1) Pass option use_label_encoder=False when constructing XGBClassifier object; and 2) Encode your labels (y) as integers starting with 0, i.e. 0, 1, 2, ..., [num_class - 1].\n",
      "  warnings.warn(label_encoder_deprecation_msg, UserWarning)\n"
     ]
    },
    {
     "name": "stdout",
     "output_type": "stream",
     "text": [
      "[17:43:17] WARNING: C:/Users/Administrator/workspace/xgboost-win64_release_1.3.0/src/learner.cc:1061: Starting in XGBoost 1.3.0, the default evaluation metric used with the objective 'binary:logistic' was changed from 'error' to 'logloss'. Explicitly set eval_metric if you'd like to restore the old behavior.\n"
     ]
    },
    {
     "data": {
      "text/plain": [
       "GridSearchCV(cv=5,\n",
       "             estimator=XGBClassifier(base_score=None, booster=None,\n",
       "                                     colsample_bylevel=None,\n",
       "                                     colsample_bynode=None,\n",
       "                                     colsample_bytree=None, gamma=None,\n",
       "                                     gpu_id=None, importance_type='gain',\n",
       "                                     interaction_constraints=None,\n",
       "                                     learning_rate=None, max_delta_step=None,\n",
       "                                     max_depth=None, min_child_weight=None,\n",
       "                                     missing=nan, monotone_constraints=None,\n",
       "                                     n_estimators=100, n_jobs...\n",
       "                                     reg_alpha=None, reg_lambda=None,\n",
       "                                     scale_pos_weight=None, subsample=None,\n",
       "                                     tree_method=None, validate_parameters=None,\n",
       "                                     verbosity=None),\n",
       "             n_jobs=-1,\n",
       "             param_grid={'colsample_bytree': [0.7],\n",
       "                         'learning_rate': [0.001, 0.05, 0.1, 10],\n",
       "                         'max_depth': [2, 3, 4, 5, 6], 'min_child_weight': [11],\n",
       "                         'n_estimators': [1000],\n",
       "                         'objective': ['binary:logistic'], 'subsample': [0.8]},\n",
       "             scoring='roc_auc', verbose=1)"
      ]
     },
     "execution_count": 63,
     "metadata": {},
     "output_type": "execute_result"
    }
   ],
   "source": [
    "grid = GridSearchCV(estimator = xgb_model, cv=5, param_grid = param_grid , scoring = 'roc_auc', verbose = 1, n_jobs = -1, refit=True)\n",
    "grid.fit(X_train,y_train)"
   ]
  },
  {
   "cell_type": "code",
   "execution_count": 64,
   "id": "powered-works",
   "metadata": {},
   "outputs": [
    {
     "name": "stdout",
     "output_type": "stream",
     "text": [
      "Best Score:0.748181187753954\n"
     ]
    }
   ],
   "source": [
    "print(\"Best Score:\" + str(grid.best_score_))"
   ]
  },
  {
   "cell_type": "code",
   "execution_count": 65,
   "id": "skilled-basement",
   "metadata": {},
   "outputs": [
    {
     "name": "stdout",
     "output_type": "stream",
     "text": [
      "Best Parameters: {'colsample_bytree': 0.7, 'learning_rate': 0.001, 'max_depth': 6, 'min_child_weight': 11, 'n_estimators': 1000, 'objective': 'binary:logistic', 'subsample': 0.8}\n"
     ]
    }
   ],
   "source": [
    "print(\"Best Parameters: \" + str(grid.best_params_))"
   ]
  },
  {
   "cell_type": "code",
   "execution_count": 66,
   "id": "composite-exception",
   "metadata": {},
   "outputs": [
    {
     "data": {
      "text/plain": [
       "{'colsample_bytree': 0.7,\n",
       " 'learning_rate': 0.001,\n",
       " 'max_depth': 6,\n",
       " 'min_child_weight': 11,\n",
       " 'n_estimators': 1000,\n",
       " 'objective': 'binary:logistic',\n",
       " 'subsample': 0.8}"
      ]
     },
     "execution_count": 66,
     "metadata": {},
     "output_type": "execute_result"
    }
   ],
   "source": [
    "best_parameters = grid.best_params_\n",
    "best_parameters"
   ]
  },
  {
   "cell_type": "code",
   "execution_count": 67,
   "id": "complete-invention",
   "metadata": {},
   "outputs": [
    {
     "name": "stdout",
     "output_type": "stream",
     "text": [
      "[17:43:36] WARNING: C:/Users/Administrator/workspace/xgboost-win64_release_1.3.0/src/learner.cc:1061: Starting in XGBoost 1.3.0, the default evaluation metric used with the objective 'binary:logistic' was changed from 'error' to 'logloss'. Explicitly set eval_metric if you'd like to restore the old behavior.\n"
     ]
    },
    {
     "name": "stderr",
     "output_type": "stream",
     "text": [
      "C:\\Users\\Anna\\Anaconda3\\envs\\ironhack\\lib\\site-packages\\sklearn\\utils\\validation.py:70: FutureWarning: Pass n_features_to_select=200 as keyword args. From version 0.25 passing these as positional arguments will result in an error\n",
      "  FutureWarning)\n",
      "C:\\Users\\Anna\\Anaconda3\\envs\\ironhack\\lib\\site-packages\\xgboost\\sklearn.py:888: UserWarning: The use of label encoder in XGBClassifier is deprecated and will be removed in a future release. To remove this warning, do the following: 1) Pass option use_label_encoder=False when constructing XGBClassifier object; and 2) Encode your labels (y) as integers starting with 0, i.e. 0, 1, 2, ..., [num_class - 1].\n",
      "  warnings.warn(label_encoder_deprecation_msg, UserWarning)\n"
     ]
    },
    {
     "name": "stdout",
     "output_type": "stream",
     "text": [
      "[17:43:45] WARNING: C:/Users/Administrator/workspace/xgboost-win64_release_1.3.0/src/learner.cc:1061: Starting in XGBoost 1.3.0, the default evaluation metric used with the objective 'binary:logistic' was changed from 'error' to 'logloss'. Explicitly set eval_metric if you'd like to restore the old behavior.\n"
     ]
    },
    {
     "data": {
      "text/plain": [
       "RFE(estimator=XGBClassifier(base_score=0.5, booster='gbtree',\n",
       "                            colsample_bylevel=1, colsample_bynode=1,\n",
       "                            colsample_bytree=0.7, gamma=0, gpu_id=-1,\n",
       "                            importance_type='gain', interaction_constraints='',\n",
       "                            learning_rate=0.001, max_delta_step=0, max_depth=6,\n",
       "                            min_child_weight=11, missing=nan,\n",
       "                            monotone_constraints='()', n_estimators=1000,\n",
       "                            n_jobs=4, num_parallel_tree=1, random_state=0,\n",
       "                            reg_alpha=0, reg_lambda=1, scale_pos_weight=1,\n",
       "                            subsample=0.8, tree_method='exact',\n",
       "                            validate_parameters=1, verbosity=None),\n",
       "    n_features_to_select=200)"
      ]
     },
     "execution_count": 67,
     "metadata": {},
     "output_type": "execute_result"
    }
   ],
   "source": [
    "# XGBoost model with RFE\n",
    "xgb_model = xgb.XGBClassifier(**best_parameters)\n",
    "xgb_model.fit(X_train,y_train)\n",
    "\n",
    "selector = RFE(xgb_model, 200, step=1)\n",
    "selector.fit(X_train,y_train)"
   ]
  },
  {
   "cell_type": "code",
   "execution_count": 68,
   "id": "annoying-revolution",
   "metadata": {},
   "outputs": [
    {
     "name": "stdout",
     "output_type": "stream",
     "text": [
      "[0. 0. 0. ... 0. 0. 0.]\n"
     ]
    }
   ],
   "source": [
    "#predict results\n",
    "y_predict = selector.predict(X_test)\n",
    "\n",
    "print(y_predict)"
   ]
  },
  {
   "cell_type": "code",
   "execution_count": 69,
   "id": "formed-consciousness",
   "metadata": {},
   "outputs": [
    {
     "data": {
      "text/plain": [
       "0.0    3205\n",
       "1.0     627\n",
       "dtype: int64"
      ]
     },
     "execution_count": 69,
     "metadata": {},
     "output_type": "execute_result"
    }
   ],
   "source": [
    "pd.Series(y_predict).value_counts()"
   ]
  },
  {
   "cell_type": "code",
   "execution_count": 70,
   "id": "accessible-density",
   "metadata": {},
   "outputs": [
    {
     "data": {
      "text/plain": [
       "3832"
      ]
     },
     "execution_count": 70,
     "metadata": {},
     "output_type": "execute_result"
    }
   ],
   "source": [
    "len(y_predict)"
   ]
  },
  {
   "cell_type": "code",
   "execution_count": 71,
   "id": "wireless-vocabulary",
   "metadata": {},
   "outputs": [],
   "source": [
    "#predict results with X_train\n",
    "\n",
    "y_predict_train = selector.predict(X_train)"
   ]
  },
  {
   "cell_type": "code",
   "execution_count": 72,
   "id": "baking-representation",
   "metadata": {},
   "outputs": [
    {
     "data": {
      "text/plain": [
       "0.0    8708\n",
       "1.0    1287\n",
       "dtype: int64"
      ]
     },
     "execution_count": 72,
     "metadata": {},
     "output_type": "execute_result"
    }
   ],
   "source": [
    "pd.Series(y_predict_train).value_counts()"
   ]
  },
  {
   "cell_type": "code",
   "execution_count": 73,
   "id": "anticipated-breach",
   "metadata": {},
   "outputs": [
    {
     "data": {
      "text/plain": [
       "array([[7142,  486],\n",
       "       [1566,  801]], dtype=int64)"
      ]
     },
     "execution_count": 73,
     "metadata": {},
     "output_type": "execute_result"
    }
   ],
   "source": [
    "confusion_matrix(y_train, y_predict_train)"
   ]
  },
  {
   "cell_type": "code",
   "execution_count": 74,
   "id": "extreme-shape",
   "metadata": {},
   "outputs": [
    {
     "name": "stdout",
     "output_type": "stream",
     "text": [
      "0.6373452020871673\n"
     ]
    }
   ],
   "source": [
    "auc=roc_auc_score(y_train, y_predict_train)\n",
    "print(auc)"
   ]
  },
  {
   "cell_type": "code",
   "execution_count": 75,
   "id": "worst-remainder",
   "metadata": {},
   "outputs": [],
   "source": [
    "# GridSearchCV with LogisticRegressor model\n",
    "lr = LogisticRegression(random_state=42)\n",
    "param_grid = {'class_weight' : ['balanced', None], \n",
    "              'penalty' : ['l2','l1'], \n",
    "              'C' : [0.001, 0.01, 0.1, 1, 10, 100],\n",
    "              'solver': ['saga']}"
   ]
  },
  {
   "cell_type": "code",
   "execution_count": 76,
   "id": "casual-bunny",
   "metadata": {},
   "outputs": [],
   "source": [
    "grid = GridSearchCV(estimator = lr, cv=5, param_grid = param_grid , scoring = 'roc_auc', verbose = 1, n_jobs = -1)"
   ]
  },
  {
   "cell_type": "code",
   "execution_count": 77,
   "id": "desperate-technique",
   "metadata": {},
   "outputs": [
    {
     "name": "stdout",
     "output_type": "stream",
     "text": [
      "Fitting 5 folds for each of 24 candidates, totalling 120 fits\n"
     ]
    },
    {
     "name": "stderr",
     "output_type": "stream",
     "text": [
      "[Parallel(n_jobs=-1)]: Using backend LokyBackend with 4 concurrent workers.\n",
      "[Parallel(n_jobs=-1)]: Done  42 tasks      | elapsed:    2.5s\n",
      "[Parallel(n_jobs=-1)]: Done 120 out of 120 | elapsed:   15.1s finished\n"
     ]
    },
    {
     "data": {
      "text/plain": [
       "GridSearchCV(cv=5, estimator=LogisticRegression(random_state=42), n_jobs=-1,\n",
       "             param_grid={'C': [0.001, 0.01, 0.1, 1, 10, 100],\n",
       "                         'class_weight': ['balanced', None],\n",
       "                         'penalty': ['l2', 'l1'], 'solver': ['saga']},\n",
       "             scoring='roc_auc', verbose=1)"
      ]
     },
     "execution_count": 77,
     "metadata": {},
     "output_type": "execute_result"
    }
   ],
   "source": [
    "grid.fit(X_train,y_train)"
   ]
  },
  {
   "cell_type": "code",
   "execution_count": 78,
   "id": "boolean-membership",
   "metadata": {},
   "outputs": [
    {
     "name": "stdout",
     "output_type": "stream",
     "text": [
      "Best Score:0.7471658723536583\n",
      "Best Parameters: {'C': 0.01, 'class_weight': None, 'penalty': 'l2', 'solver': 'saga'}\n"
     ]
    }
   ],
   "source": [
    "print(\"Best Score:\" + str(grid.best_score_))\n",
    "print(\"Best Parameters: \" + str(grid.best_params_))"
   ]
  },
  {
   "cell_type": "code",
   "execution_count": 79,
   "id": "decimal-surface",
   "metadata": {},
   "outputs": [],
   "source": [
    "best_parameters = grid.best_params_"
   ]
  },
  {
   "cell_type": "code",
   "execution_count": 80,
   "id": "green-kidney",
   "metadata": {},
   "outputs": [],
   "source": [
    "# LogisticRegression with RFE and 150 features\n",
    "lr = LogisticRegression(**best_parameters)"
   ]
  },
  {
   "cell_type": "code",
   "execution_count": 81,
   "id": "continuing-seafood",
   "metadata": {
    "scrolled": true
   },
   "outputs": [
    {
     "data": {
      "text/plain": [
       "LogisticRegression(C=0.01, solver='saga')"
      ]
     },
     "execution_count": 81,
     "metadata": {},
     "output_type": "execute_result"
    }
   ],
   "source": [
    "lr.fit(X_train,y_train)"
   ]
  },
  {
   "cell_type": "code",
   "execution_count": 82,
   "id": "reasonable-drunk",
   "metadata": {},
   "outputs": [
    {
     "name": "stderr",
     "output_type": "stream",
     "text": [
      "C:\\Users\\Anna\\Anaconda3\\envs\\ironhack\\lib\\site-packages\\sklearn\\utils\\validation.py:70: FutureWarning: Pass n_features_to_select=200 as keyword args. From version 0.25 passing these as positional arguments will result in an error\n",
      "  FutureWarning)\n"
     ]
    },
    {
     "data": {
      "text/plain": [
       "RFE(estimator=LogisticRegression(C=0.01, solver='saga'),\n",
       "    n_features_to_select=200)"
      ]
     },
     "execution_count": 82,
     "metadata": {},
     "output_type": "execute_result"
    }
   ],
   "source": [
    "selector = RFE(lr, 200, step=1)\n",
    "selector.fit(X_train,y_train)"
   ]
  },
  {
   "cell_type": "code",
   "execution_count": 83,
   "id": "instrumental-diabetes",
   "metadata": {},
   "outputs": [
    {
     "name": "stdout",
     "output_type": "stream",
     "text": [
      "[0. 0. 0. ... 0. 0. 0.]\n"
     ]
    }
   ],
   "source": [
    "#predict results\n",
    "y_predict_lr = selector.predict(X_test)\n",
    "\n",
    "print(y_predict_lr)"
   ]
  },
  {
   "cell_type": "code",
   "execution_count": 93,
   "id": "electoral-server",
   "metadata": {},
   "outputs": [
    {
     "data": {
      "text/plain": [
       "0.0    3218\n",
       "1.0     614\n",
       "dtype: int64"
      ]
     },
     "execution_count": 93,
     "metadata": {},
     "output_type": "execute_result"
    }
   ],
   "source": [
    "pd.Series(y_predict_lr).value_counts()"
   ]
  },
  {
   "cell_type": "code",
   "execution_count": 94,
   "id": "meaningful-moderator",
   "metadata": {},
   "outputs": [],
   "source": [
    "#predict results with X_train\n",
    "\n",
    "y_predict_train = selector.predict(X_train)"
   ]
  },
  {
   "cell_type": "code",
   "execution_count": null,
   "id": "pregnant-tiffany",
   "metadata": {},
   "outputs": [],
   "source": []
  },
  {
   "cell_type": "code",
   "execution_count": 95,
   "id": "backed-fleet",
   "metadata": {},
   "outputs": [
    {
     "data": {
      "text/plain": [
       "array([[7141,  487],\n",
       "       [1635,  732]], dtype=int64)"
      ]
     },
     "execution_count": 95,
     "metadata": {},
     "output_type": "execute_result"
    }
   ],
   "source": [
    "confusion_matrix(y_train, y_predict_train)"
   ]
  },
  {
   "cell_type": "code",
   "execution_count": 96,
   "id": "bearing-sunglasses",
   "metadata": {},
   "outputs": [
    {
     "name": "stdout",
     "output_type": "stream",
     "text": [
      "0.6227042421922303\n"
     ]
    }
   ],
   "source": [
    "auc=roc_auc_score(y_train, y_predict_train)\n",
    "print(auc)"
   ]
  },
  {
   "cell_type": "code",
   "execution_count": 97,
   "id": "overhead-business",
   "metadata": {},
   "outputs": [],
   "source": [
    "# Combine models\n",
    "final_preds = (y_predict_lr * 0.8 + y_predict * 0.2)"
   ]
  },
  {
   "cell_type": "markdown",
   "id": "favorite-green",
   "metadata": {},
   "source": [
    "Preparation of submission file"
   ]
  },
  {
   "cell_type": "code",
   "execution_count": 98,
   "id": "sixth-breathing",
   "metadata": {},
   "outputs": [
    {
     "data": {
      "text/html": [
       "<div>\n",
       "<style scoped>\n",
       "    .dataframe tbody tr th:only-of-type {\n",
       "        vertical-align: middle;\n",
       "    }\n",
       "\n",
       "    .dataframe tbody tr th {\n",
       "        vertical-align: top;\n",
       "    }\n",
       "\n",
       "    .dataframe thead th {\n",
       "        text-align: right;\n",
       "    }\n",
       "</style>\n",
       "<table border=\"1\" class=\"dataframe\">\n",
       "  <thead>\n",
       "    <tr style=\"text-align: right;\">\n",
       "      <th></th>\n",
       "      <th>enrollee_id</th>\n",
       "      <th>target</th>\n",
       "    </tr>\n",
       "  </thead>\n",
       "  <tbody>\n",
       "    <tr>\n",
       "      <th>0</th>\n",
       "      <td>23603</td>\n",
       "      <td>0.0</td>\n",
       "    </tr>\n",
       "    <tr>\n",
       "      <th>1</th>\n",
       "      <td>22499</td>\n",
       "      <td>0.0</td>\n",
       "    </tr>\n",
       "    <tr>\n",
       "      <th>2</th>\n",
       "      <td>10465</td>\n",
       "      <td>0.0</td>\n",
       "    </tr>\n",
       "    <tr>\n",
       "      <th>3</th>\n",
       "      <td>8293</td>\n",
       "      <td>0.0</td>\n",
       "    </tr>\n",
       "    <tr>\n",
       "      <th>4</th>\n",
       "      <td>4246</td>\n",
       "      <td>0.0</td>\n",
       "    </tr>\n",
       "    <tr>\n",
       "      <th>...</th>\n",
       "      <td>...</td>\n",
       "      <td>...</td>\n",
       "    </tr>\n",
       "    <tr>\n",
       "      <th>3827</th>\n",
       "      <td>8880</td>\n",
       "      <td>0.0</td>\n",
       "    </tr>\n",
       "    <tr>\n",
       "      <th>3828</th>\n",
       "      <td>7886</td>\n",
       "      <td>0.0</td>\n",
       "    </tr>\n",
       "    <tr>\n",
       "      <th>3829</th>\n",
       "      <td>12279</td>\n",
       "      <td>0.0</td>\n",
       "    </tr>\n",
       "    <tr>\n",
       "      <th>3830</th>\n",
       "      <td>5326</td>\n",
       "      <td>0.0</td>\n",
       "    </tr>\n",
       "    <tr>\n",
       "      <th>3831</th>\n",
       "      <td>4017</td>\n",
       "      <td>0.0</td>\n",
       "    </tr>\n",
       "  </tbody>\n",
       "</table>\n",
       "<p>3832 rows × 2 columns</p>\n",
       "</div>"
      ],
      "text/plain": [
       "      enrollee_id  target\n",
       "0           23603     0.0\n",
       "1           22499     0.0\n",
       "2           10465     0.0\n",
       "3            8293     0.0\n",
       "4            4246     0.0\n",
       "...           ...     ...\n",
       "3827         8880     0.0\n",
       "3828         7886     0.0\n",
       "3829        12279     0.0\n",
       "3830         5326     0.0\n",
       "3831         4017     0.0\n",
       "\n",
       "[3832 rows x 2 columns]"
      ]
     },
     "execution_count": 98,
     "metadata": {},
     "output_type": "execute_result"
    }
   ],
   "source": [
    "my_submission = pd.DataFrame({'enrollee_id': test.enrollee_id, 'target': final_preds})\n",
    "my_submission"
   ]
  },
  {
   "cell_type": "code",
   "execution_count": 99,
   "id": "pursuant-memphis",
   "metadata": {},
   "outputs": [
    {
     "data": {
      "text/plain": [
       "0.0    3218\n",
       "1.0     614\n",
       "Name: target, dtype: int64"
      ]
     },
     "execution_count": 99,
     "metadata": {},
     "output_type": "execute_result"
    }
   ],
   "source": [
    "my_submission.target.value_counts()"
   ]
  },
  {
   "cell_type": "code",
   "execution_count": 92,
   "id": "progressive-texture",
   "metadata": {},
   "outputs": [
    {
     "data": {
      "text/plain": [
       "3832"
      ]
     },
     "execution_count": 92,
     "metadata": {},
     "output_type": "execute_result"
    }
   ],
   "source": [
    "my_submission.shape[0]"
   ]
  },
  {
   "cell_type": "code",
   "execution_count": 358,
   "id": "significant-rebecca",
   "metadata": {},
   "outputs": [],
   "source": [
    "# you could use any filename. We choose submission here\n",
    "my_submission.to_csv('submission.csv', index=False)"
   ]
  },
  {
   "cell_type": "code",
   "execution_count": null,
   "id": "legal-convergence",
   "metadata": {},
   "outputs": [],
   "source": [
    "# New score: 63%"
   ]
  },
  {
   "cell_type": "code",
   "execution_count": null,
   "id": "earned-antenna",
   "metadata": {},
   "outputs": [],
   "source": [
    "#1. Datacleaning\n",
    "#2. RFE & Deepforest"
   ]
  },
  {
   "cell_type": "code",
   "execution_count": null,
   "id": "treated-virgin",
   "metadata": {},
   "outputs": [],
   "source": [
    "#x_train.isnull().sum()[x_train.isnull().sum() > 0]"
   ]
  },
  {
   "cell_type": "code",
   "execution_count": null,
   "id": "vocational-samba",
   "metadata": {},
   "outputs": [],
   "source": [
    "#solo variables numericos\n",
    "#data_z_train['company_type'] = data_z_train['company_type'].fillna(data_z_train['company_type'].mean())\n",
    "#data_z_train['company_size'] = data_z_train['company_size'].fillna(data_z_train['company_size'].mean())\n",
    "#data_z_train['gender'] = data_z_train['gender'].fillna(data_z_train['gender'].mean())\n",
    "#data_z_train['major_discipline'] = data_z_train['major_discipline'].fillna(data_z_train['major_discipline'].mean())\n",
    "#data_z_train['education_level'] = data_z_train['education_level'].fillna(data_z_train['education_level'].mean())\n",
    "#data_z_train['last_new_job'] = data_z_train['last_new_job'].fillna(data_z_train['last_new_job'].mean())\n",
    "#data_z_train['enrolled_university'] = data_z_train['enrolled_university'].fillna(data_z_train['enrolled_university'].mean())\n",
    "#data_z_train['experience'] = data_z_train['experience'].fillna(data_z_train['experience'].mean())"
   ]
  },
  {
   "cell_type": "code",
   "execution_count": null,
   "id": "amber-maximum",
   "metadata": {},
   "outputs": [],
   "source": [
    "#def gender(x):\n",
    "   # gender_dict = {'Female': 2, 'Male': 1, 'Other': 0}\n",
    "  #  if x is np.nan:\n",
    "   #     return np.nan\n",
    "   # return gender_dict[x]\n",
    "    \n",
    "#def relevent_experience(x):\n",
    "   # rel_experience_dict = {'Has relevent experience': 1, 'No relevent experience': 0}\n",
    "   # if x is np.nan:\n",
    "       # return np.nan\n",
    "   # return rel_experience_dict[x]"
   ]
  }
 ],
 "metadata": {
  "kernelspec": {
   "display_name": "Python 3",
   "language": "python",
   "name": "python3"
  },
  "language_info": {
   "codemirror_mode": {
    "name": "ipython",
    "version": 3
   },
   "file_extension": ".py",
   "mimetype": "text/x-python",
   "name": "python",
   "nbconvert_exporter": "python",
   "pygments_lexer": "ipython3",
   "version": "3.7.9"
  }
 },
 "nbformat": 4,
 "nbformat_minor": 5
}
